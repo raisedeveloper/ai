{
 "cells": [
  {
   "cell_type": "code",
   "execution_count": 5,
   "metadata": {},
   "outputs": [
    {
     "name": "stdout",
     "output_type": "stream",
     "text": [
      "회귀 계수:\n",
      "X3: 3.0000\n",
      "X3: 3.0000\n",
      "X3: 1.5000\n",
      "\n",
      "절편: 0.0000\n",
      "\n",
      "R-squared값: 1.0000\n",
      "평균제곱근오차(RMSE): 0.0000\n"
     ]
    },
    {
     "data": {
      "image/png": "[encoded data removed]",
      "text/plain": [
       "<Figure size 1000x600 with 1 Axes>"
      ]
     },
     "metadata": {},
     "output_type": "display_data"
    }
   ],
   "source": [
    "import numpy as np\n",
    "import pandas as pd\n",
    "from sklearn.model_selection import train_test_split\n",
    "from sklearn.linear_model import LinearRegression\n",
    "from sklearn.metrics import mean_squared_error, r2_score\n",
    "import matplotlib.pyplot as plt\n",
    "\n",
    "# 폰트지정\n",
    "plt.rcParams['font.family'] = 'Malgun Gothic'\n",
    "\n",
    "# 마이너스 부호 깨짐 지정\n",
    "plt.rcParams['axes.unicode_minus'] = False\n",
    "\n",
    "# 숫자가 지수표현식으로 나올 떄 지정\n",
    "pd.options.display.float_format = '{:.2f}'.format\n",
    "\n",
    "# 샘플 데이터 생성\n",
    "np.random.seed(42)\n",
    "n_samples = 100\n",
    "\n",
    "# 독립변수 생성 (Y = 2X1 + 3X2 + 1.5X3 + 오차)\n",
    "Y = 2 * X1 +3 * X2 + 1.5 * X3 + np.random.normal(0, 1, n_samples)\n",
    "\n",
    "# 데이터프레임 생성\n",
    "data = pd.DataFrame({\n",
    "    'X1': X1,\n",
    "    'X2': X2,\n",
    "    'X3': X3,\n",
    "    'Y': Y\n",
    "})\n",
    "\n",
    "# 학습용과 테스트용 데이터 분리\n",
    "X = data[['X1', 'X2', 'X3']]\n",
    "y = data['Y']\n",
    "X_train, X_test, y_train, y_test = train_test_split(X, y, test_size=0.2, random_state=42)\n",
    "\n",
    "# 모델 학습\n",
    "model = LinearRegression()\n",
    "model.fit(X_train, y_train)\n",
    "\n",
    "# 예측\n",
    "y_pred = model.predict(X_test)\n",
    "\n",
    "# 결과 출력\n",
    "print(\"회귀 계수:\")\n",
    "for features, coef in zip(X.columns, model.coef_):\n",
    "    print(f\"{feature}: {coef:.4f}\")\n",
    "print(f\"\\n절편: {model.intercept_:.4f}\")\n",
    "print(f\"\\nR-squared값: {r2_score(y_test, y_pred):.4f}\")\n",
    "print(f\"평균제곱근오차(RMSE): {np.sqrt(mean_squared_error(y_test, y_pred)):.4f}\")\n",
    "\n",
    "# 실제값과 예측값 비교 시각화\n",
    "plt.figure(figsize=(10, 6))\n",
    "plt.scatter(y_test, y_pred, color='blue', alpha=0.5)\n",
    "plt.plot([-4, 4], [-4, 4], 'r--') # 대각선\n",
    "plt.xlabel('실제값')\n",
    "plt.ylabel('예측값')\n",
    "plt.title('실제값 vs 예측값')\n",
    "plt.grid(True)\n",
    "plt.show()"
   ]
  },
  {
   "cell_type": "code",
   "execution_count": 6,
   "metadata": {},
   "outputs": [
    {
     "name": "stdout",
     "output_type": "stream",
     "text": [
      "   col1  col2 col3\n",
      "0    10   100    A\n",
      "1    20   200    B\n",
      "2    30   300    C\n",
      "3    40   400    D\n"
     ]
    }
   ],
   "source": [
    "### 선형회귀 추가학습 ###\n",
    "## 사전학습(iloc 함수) ##\n",
    "\n",
    "# 사전설치 : pip install pandas\n",
    "import pandas as pd\n",
    "\n",
    "data = {'col1': [10, 20, 30, 40],\n",
    "        'col2': [100, 200, 300, 400],\n",
    "        'col3': ['A','B','C','D']}\n",
    "\n",
    "df = pd.DataFrame(data)\n",
    "\n",
    "print(df) \n"
   ]
  },
  {
   "cell_type": "code",
   "execution_count": 7,
   "metadata": {},
   "outputs": [
    {
     "name": "stdout",
     "output_type": "stream",
     "text": [
      "col1     10\n",
      "col2    100\n",
      "col3      A\n",
      "Name: 0, dtype: object\n"
     ]
    }
   ],
   "source": [
    "# 첫 번째 행 선택\n",
    "print(df.iloc[0])"
   ]
  },
  {
   "cell_type": "code",
   "execution_count": 8,
   "metadata": {},
   "outputs": [
    {
     "name": "stdout",
     "output_type": "stream",
     "text": [
      "20\n"
     ]
    }
   ],
   "source": [
    "# 두 번째 행, 첫 번째 열 선택\n",
    "print(df.iloc[1, 0])  # 행 인덱스 1, 열 인덱스 0"
   ]
  },
  {
   "cell_type": "code",
   "execution_count": 9,
   "metadata": {},
   "outputs": [
    {
     "name": "stdout",
     "output_type": "stream",
     "text": [
      "   col1  col2\n",
      "0    10   100\n",
      "1    20   200\n",
      "2    30   300\n"
     ]
    }
   ],
   "source": [
    "# 첫 번째부터 세 번째 행까지, 처음 두 열 선택 (0, 1)\n",
    "print(df.iloc[0:3, 0:2]) # 슬라이싱: 끝 인덱스(3, 2)는 포함 X"
   ]
  },
  {
   "cell_type": "code",
   "execution_count": null,
   "metadata": {},
   "outputs": [],
   "source": [
    "## 사전 학습(loc 함수) ##\n",
    "\n",
    "data = {'col1': [10, 20, 30, 40],\n",
    "        'col2': [100, 200, 300, 400],\n",
    "        'col3': ['A', 'B', 'C', 'D']}"
   ]
  },
  {
   "cell_type": "code",
   "execution_count": 11,
   "metadata": {},
   "outputs": [],
   "source": [
    "df = pd.DataFrame(data, index=['a', 'b', 'c', 'd']) # 명시적인 인덱스 설정"
   ]
  },
  {
   "cell_type": "code",
   "execution_count": 12,
   "metadata": {},
   "outputs": [
    {
     "name": "stdout",
     "output_type": "stream",
     "text": [
      "col1     10\n",
      "col2    100\n",
      "col3      A\n",
      "Name: a, dtype: object\n"
     ]
    }
   ],
   "source": [
    "# 인덱스 'a' 행 선택\n",
    "print(df.loc['a'])"
   ]
  },
  {
   "cell_type": "code",
   "execution_count": 13,
   "metadata": {},
   "outputs": [
    {
     "name": "stdout",
     "output_type": "stream",
     "text": [
      "20\n"
     ]
    }
   ],
   "source": [
    "# 인덱스 'b' 행, 'col1' 열 선택\n",
    "print(df.loc['b', 'col1'])"
   ]
  },
  {
   "cell_type": "code",
   "execution_count": 14,
   "metadata": {},
   "outputs": [
    {
     "name": "stdout",
     "output_type": "stream",
     "text": [
      "   col1  col2\n",
      "a    10   100\n",
      "b    20   200\n",
      "c    30   300\n"
     ]
    }
   ],
   "source": [
    "# 인덱스 'a'부터 'c'까지 행, 'col1'과 'col2' 열 선택\n",
    "print(df.loc['a':'c', 'col1':'col2']) # 슬라이싱: 끝 인덱스('c', 'col2') 포함"
   ]
  },
  {
   "cell_type": "code",
   "execution_count": 1,
   "metadata": {},
   "outputs": [
    {
     "data": {
      "text/html": [
       "<div>\n",
       "<style scoped>\n",
       "    .dataframe tbody tr th:only-of-type {\n",
       "        vertical-align: middle;\n",
       "    }\n",
       "\n",
       "    .dataframe tbody tr th {\n",
       "        vertical-align: top;\n",
       "    }\n",
       "\n",
       "    .dataframe thead th {\n",
       "        text-align: right;\n",
       "    }\n",
       "</style>\n",
       "<table border=\"1\" class=\"dataframe\">\n",
       "  <thead>\n",
       "    <tr style=\"text-align: right;\">\n",
       "      <th></th>\n",
       "      <th>hour</th>\n",
       "      <th>score</th>\n",
       "    </tr>\n",
       "  </thead>\n",
       "  <tbody>\n",
       "    <tr>\n",
       "      <th>0</th>\n",
       "      <td>0.5</td>\n",
       "      <td>10</td>\n",
       "    </tr>\n",
       "    <tr>\n",
       "      <th>1</th>\n",
       "      <td>1.2</td>\n",
       "      <td>8</td>\n",
       "    </tr>\n",
       "    <tr>\n",
       "      <th>2</th>\n",
       "      <td>1.8</td>\n",
       "      <td>14</td>\n",
       "    </tr>\n",
       "    <tr>\n",
       "      <th>3</th>\n",
       "      <td>2.4</td>\n",
       "      <td>26</td>\n",
       "    </tr>\n",
       "    <tr>\n",
       "      <th>4</th>\n",
       "      <td>2.6</td>\n",
       "      <td>22</td>\n",
       "    </tr>\n",
       "  </tbody>\n",
       "</table>\n",
       "</div>"
      ],
      "text/plain": [
       "   hour  score\n",
       "0   0.5     10\n",
       "1   1.2      8\n",
       "2   1.8     14\n",
       "3   2.4     26\n",
       "4   2.6     22"
      ]
     },
     "execution_count": 1,
     "metadata": {},
     "output_type": "execute_result"
    }
   ],
   "source": [
    "import matplotlib.pyplot as plt\n",
    "import pandas as pd\n",
    "dataset = pd.read_csv('./dataset/LinearRegressionData.csv')\n",
    "dataset.head()"
   ]
  },
  {
   "cell_type": "code",
   "execution_count": 1,
   "metadata": {},
   "outputs": [
    {
     "ename": "NameError",
     "evalue": "name 'dataset' is not defined",
     "output_type": "error",
     "traceback": [
      "\u001b[1;31m---------------------------------------------------------------------------\u001b[0m",
      "\u001b[1;31mNameError\u001b[0m                                 Traceback (most recent call last)",
      "Cell \u001b[1;32mIn[1], line 1\u001b[0m\n\u001b[1;32m----> 1\u001b[0m X \u001b[38;5;241m=\u001b[39m \u001b[43mdataset\u001b[49m\u001b[38;5;241m.\u001b[39miloc[:, :\u001b[38;5;241m-\u001b[39m\u001b[38;5;241m1\u001b[39m]\u001b[38;5;241m.\u001b[39mvalues\n\u001b[0;32m      2\u001b[0m y \u001b[38;5;241m=\u001b[39m dataset\u001b[38;5;241m.\u001b[39miloc[:, \u001b[38;5;241m-\u001b[39m\u001b[38;5;241m1\u001b[39m]\u001b[38;5;241m.\u001b[39mvalues\n\u001b[0;32m      4\u001b[0m X,y\n",
      "\u001b[1;31mNameError\u001b[0m: name 'dataset' is not defined"
     ]
    }
   ],
   "source": [
    "X = dataset.iloc[:, :-1].values\n",
    "y = dataset.iloc[:, -1].values\n",
    "\n",
    "X,y"
   ]
  },
  {
   "cell_type": "code",
   "execution_count": null,
   "metadata": {},
   "outputs": [],
   "source": []
  }
 ],
 "metadata": {
  "kernelspec": {
   "display_name": ".venv",
   "language": "python",
   "name": "python3"
  },
  "language_info": {
   "codemirror_mode": {
    "name": "ipython",
    "version": 3
   },
   "file_extension": ".py",
   "mimetype": "text/x-python",
   "name": "python",
   "nbconvert_exporter": "python",
   "pygments_lexer": "ipython3",
   "version": "3.10.6"
  }
 },
 "nbformat": 4,
 "nbformat_minor": 2
}
