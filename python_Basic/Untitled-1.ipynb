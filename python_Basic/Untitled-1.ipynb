{
 "cells": [
  {
   "cell_type": "code",
   "execution_count": 1,
   "metadata": {},
   "outputs": [],
   "source": [
    "# 문자열 형태의 문장을 입력받아 각 단어의 빈도를 딕셔너리 형태로 반환하고, 문장에 포함된 총 단어 수도 함께 출력하는 파이썬 함수 count_words를 작성하세요.\n",
    "\n",
    "# 조건:\n",
    "# 1. 함수는 문자열 형태의 문장을 입력받습니다.\n",
    "# 2. 문장을 단어 단위로 분리해야 합니다. (구두점이나 특수문자는 제거하지 않아도 됩니다.)\n",
    "# 3. 함수는 각 단어의 빈도를 딕셔너리 형태로 저장합니다. (예: {\"the\": 3, \"quick\": 1, \"brown\": 1})\n",
    "# 4. 함수는 문장에 포함된 총 단어 수를 계산합니다.\n",
    "# 5. 함수는 단어 빈도 딕셔너리와 총 단어 수를 모두 반환합니다.\n",
    "# 6. input() 함수를 사용하여 사용자로부터 문장을 입력받습니다.\n",
    "# 7. 최종 결과는 문제에서 제시된 출력 예시와 동일해야 합니다.\n",
    "\n",
    "# 출력 예시(영문, 한글 문장 모두 가능):\n",
    "# 문장을 입력하세요: the quick brown fox jumps over the lazy dog the \n",
    "# {'the': 3, 'quick': 1, 'brown': 1, 'fox': 1, 'jumps': 1, 'over': 1, 'lazy': 1, 'dog': 1} \n",
    "# 총 단어 수: 9"
   ]
  },
  {
   "cell_type": "code",
   "execution_count": 5,
   "metadata": {},
   "outputs": [
    {
     "name": "stdout",
     "output_type": "stream",
     "text": [
      "{'안녕': 1, '하세요': 1}\n",
      "단어의 갯수: 2\n"
     ]
    }
   ],
   "source": [
    "sentence = input(\"문장을 입력하세요.\")\n",
    "def count_word(sentence):\n",
    "      words = sentence.split()\n",
    "      word_count = {}\n",
    "      \n",
    "      for word in words:\n",
    "        if word not in word_count:\n",
    "            word_count[word] = words.count(word)\n",
    "      print(word_count)\n",
    "      print(f\"단어의 갯수: {len(word_count)}\")           \n",
    "count_word(sentence)"
   ]
  },
  {
   "cell_type": "code",
   "execution_count": 15,
   "metadata": {},
   "outputs": [
    {
     "name": "stdout",
     "output_type": "stream",
     "text": [
      "결과: 0.0\n"
     ]
    }
   ],
   "source": [
    "# 사칙연산 계산기\n",
    "\n",
    "# 1. 주요 내용\n",
    "# 두 개의 숫자를 입력받고, 사칙 연산(덧셈, 뺄셈, 곱셈, 나눗셈) 중 하나를 선택하여 결과를 반환하는 \n",
    "# 파이썬 함수 calculate(num1, num2, operator)를 작성하세요.\n",
    "# num1: 첫 번째 숫자 (float)\n",
    "# num2: 두 번째 숫자 (float)\n",
    "# operator: 연산자 (+, -, *, /) (str)\n",
    "# 연산 결과 (float)\n",
    "# 유효하지 않은 연산자인 경우 \"Invalid operator\" 문자열 반환\n",
    "# 두 번째 숫자가 0이고 나눗셈을 시도하는 경우 \"Division by zero\" 문자열 반환\n",
    "\n",
    "\n",
    "# 2. 메시지 출력\n",
    "# 1번 문제에서 작성한 calculate 함수를 사용하여, 사용자로부터 두 개의 숫자와 연산자를 입력받고, \n",
    "# calculate 함수를 호출하여 결과를 출력하는 프로그램을 작성하세요.\n",
    "# \"첫 번째 숫자를 입력하세요: \" 메시지를 출력하고 사용자로부터 첫 번째 숫자를 입력받습니다.\n",
    "# \"두 번째 숫자를 입력하세요: \" 메시지를 출력하고 사용자로부터 두 번째 숫자를 입력받습니다.\n",
    "# \"연산자를 선택하세요 (+, -, *, /): \" 메시지를 출력하고 사용자로부터 연산자를 입력받습니다.\n",
    "# calculate 함수의 반환 값을 \"결과: \" 메시지와 함께 출력합니다.\n",
    "\n",
    "num1 = float(input(\"첫 번째 숫자를 입력하세요.\"))\n",
    "num2 = float(input(\"두 번째 숫자를 입력하세요.\"))\n",
    "operator = input(\"연산자를 입력하세요.(+,-,*,/): \")\n",
    "if operator == \"+\":\n",
    "    result = (num1 + num2)\n",
    "elif operator == \"-\":\n",
    "    result = (num1 - num2)\n",
    "elif operator == \"*\":\n",
    "    result = (num1 * num2)\n",
    "elif operator == \"/\":\n",
    "    if num2 != 0:\n",
    "        result = (num1 / num2)\n",
    "    else: print(\"0으로 나눌 수 없습니다.\")\n",
    "\n",
    "print(f\"결과: {result}\")\n"
   ]
  },
  {
   "cell_type": "code",
   "execution_count": 16,
   "metadata": {},
   "outputs": [
    {
     "name": "stdout",
     "output_type": "stream",
     "text": [
      "c:\\aiproject\n"
     ]
    }
   ],
   "source": [
    "import os\n",
    "print(os.getcwd())"
   ]
  },
  {
   "cell_type": "code",
   "execution_count": 21,
   "metadata": {},
   "outputs": [
    {
     "name": "stdout",
     "output_type": "stream",
     "text": [
      "['.venv', 'dataset', 'python01.py', 'pythonFunction(dbconn).py', 'test01.ipynb', 'test02.ipynb', 'Untitled-1.ipynb', 'while 문과 if문을 같이 사용한 간단한 계산기 프로그램.py', '파이썬 퀴즈(if문).ipynb - Colab.html', '파이썬 퀴즈(if문).ipynb - Colab_files', '함수 과제(단어 빈도수 딕셔너리에 담기).ipynb - Colab.html', '함수 과제(단어 빈도수 딕셔너리에 담기).ipynb - Colab_files']\n"
     ]
    }
   ],
   "source": [
    "import os\n",
    "print(os.listdir())"
   ]
  },
  {
   "cell_type": "code",
   "execution_count": null,
   "metadata": {},
   "outputs": [],
   "source": []
  }
 ],
 "metadata": {
  "kernelspec": {
   "display_name": ".venv",
   "language": "python",
   "name": "python3"
  },
  "language_info": {
   "codemirror_mode": {
    "name": "ipython",
    "version": 3
   },
   "file_extension": ".py",
   "mimetype": "text/x-python",
   "name": "python",
   "nbconvert_exporter": "python",
   "pygments_lexer": "ipython3",
   "version": "3.10.6"
  }
 },
 "nbformat": 4,
 "nbformat_minor": 2
}
